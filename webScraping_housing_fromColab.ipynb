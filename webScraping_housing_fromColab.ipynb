{
  "cells": [
    {
      "cell_type": "markdown",
      "id": "d95f2ef3",
      "metadata": {
        "id": "d95f2ef3"
      },
      "source": [
        "# Web Scraping Real Estate Data: Case Study Bogota, Colombia (Colab version)\n",
        "[Author: Elias Buitrago Bolivar](https://github.com/ebuitrago?tab=repositories)\n",
        "\n",
        "This jupyter notebook depicts a python based web scraping  algorithm to obtain real estate data from the portal fincaraiz.com.co. The code presented here is functional and was tested by scraping real estate data of used apartments sales from Bogota, Colombia. This upgraded version is compatible with Colab.\n",
        "_Updated: Dec 4, 2023_\n"
      ]
    },
    {
      "cell_type": "markdown",
      "id": "bc4c3640",
      "metadata": {
        "id": "bc4c3640"
      },
      "source": [
        "## Install required libraries"
      ]
    },
    {
      "cell_type": "code",
      "execution_count": 4,
      "id": "79e2c30d",
      "metadata": {
        "colab": {
          "base_uri": "https://localhost:8080/"
        },
        "id": "79e2c30d",
        "outputId": "3d563f36-6406-4e99-9b03-9265953f7ad3"
      },
      "outputs": [
        {
          "output_type": "stream",
          "name": "stdout",
          "text": [
            "Requirement already satisfied: lxml in /usr/local/lib/python3.10/dist-packages (4.9.3)\n",
            "Requirement already satisfied: scrapy in /usr/local/lib/python3.10/dist-packages (2.11.0)\n",
            "Requirement already satisfied: Twisted<23.8.0,>=18.9.0 in /usr/local/lib/python3.10/dist-packages (from scrapy) (22.10.0)\n",
            "Requirement already satisfied: cryptography>=36.0.0 in /usr/local/lib/python3.10/dist-packages (from scrapy) (41.0.7)\n",
            "Requirement already satisfied: cssselect>=0.9.1 in /usr/local/lib/python3.10/dist-packages (from scrapy) (1.2.0)\n",
            "Requirement already satisfied: itemloaders>=1.0.1 in /usr/local/lib/python3.10/dist-packages (from scrapy) (1.1.0)\n",
            "Requirement already satisfied: parsel>=1.5.0 in /usr/local/lib/python3.10/dist-packages (from scrapy) (1.8.1)\n",
            "Requirement already satisfied: pyOpenSSL>=21.0.0 in /usr/local/lib/python3.10/dist-packages (from scrapy) (23.3.0)\n",
            "Requirement already satisfied: queuelib>=1.4.2 in /usr/local/lib/python3.10/dist-packages (from scrapy) (1.6.2)\n",
            "Requirement already satisfied: service-identity>=18.1.0 in /usr/local/lib/python3.10/dist-packages (from scrapy) (23.1.0)\n",
            "Requirement already satisfied: w3lib>=1.17.0 in /usr/local/lib/python3.10/dist-packages (from scrapy) (2.1.2)\n",
            "Requirement already satisfied: zope.interface>=5.1.0 in /usr/local/lib/python3.10/dist-packages (from scrapy) (6.1)\n",
            "Requirement already satisfied: protego>=0.1.15 in /usr/local/lib/python3.10/dist-packages (from scrapy) (0.3.0)\n",
            "Requirement already satisfied: itemadapter>=0.1.0 in /usr/local/lib/python3.10/dist-packages (from scrapy) (0.8.0)\n",
            "Requirement already satisfied: setuptools in /usr/local/lib/python3.10/dist-packages (from scrapy) (67.7.2)\n",
            "Requirement already satisfied: packaging in /usr/local/lib/python3.10/dist-packages (from scrapy) (23.2)\n",
            "Requirement already satisfied: tldextract in /usr/local/lib/python3.10/dist-packages (from scrapy) (5.1.1)\n",
            "Requirement already satisfied: lxml>=4.4.1 in /usr/local/lib/python3.10/dist-packages (from scrapy) (4.9.3)\n",
            "Requirement already satisfied: PyDispatcher>=2.0.5 in /usr/local/lib/python3.10/dist-packages (from scrapy) (2.0.7)\n",
            "Requirement already satisfied: cffi>=1.12 in /usr/local/lib/python3.10/dist-packages (from cryptography>=36.0.0->scrapy) (1.16.0)\n",
            "Requirement already satisfied: jmespath>=0.9.5 in /usr/local/lib/python3.10/dist-packages (from itemloaders>=1.0.1->scrapy) (1.0.1)\n",
            "Requirement already satisfied: attrs>=19.1.0 in /usr/local/lib/python3.10/dist-packages (from service-identity>=18.1.0->scrapy) (23.1.0)\n",
            "Requirement already satisfied: pyasn1 in /usr/local/lib/python3.10/dist-packages (from service-identity>=18.1.0->scrapy) (0.5.1)\n",
            "Requirement already satisfied: pyasn1-modules in /usr/local/lib/python3.10/dist-packages (from service-identity>=18.1.0->scrapy) (0.3.0)\n",
            "Requirement already satisfied: constantly>=15.1 in /usr/local/lib/python3.10/dist-packages (from Twisted<23.8.0,>=18.9.0->scrapy) (23.10.4)\n",
            "Requirement already satisfied: incremental>=21.3.0 in /usr/local/lib/python3.10/dist-packages (from Twisted<23.8.0,>=18.9.0->scrapy) (22.10.0)\n",
            "Requirement already satisfied: Automat>=0.8.0 in /usr/local/lib/python3.10/dist-packages (from Twisted<23.8.0,>=18.9.0->scrapy) (22.10.0)\n",
            "Requirement already satisfied: hyperlink>=17.1.1 in /usr/local/lib/python3.10/dist-packages (from Twisted<23.8.0,>=18.9.0->scrapy) (21.0.0)\n",
            "Requirement already satisfied: typing-extensions>=3.6.5 in /usr/local/lib/python3.10/dist-packages (from Twisted<23.8.0,>=18.9.0->scrapy) (4.5.0)\n",
            "Requirement already satisfied: idna in /usr/local/lib/python3.10/dist-packages (from tldextract->scrapy) (3.6)\n",
            "Requirement already satisfied: requests>=2.1.0 in /usr/local/lib/python3.10/dist-packages (from tldextract->scrapy) (2.31.0)\n",
            "Requirement already satisfied: requests-file>=1.4 in /usr/local/lib/python3.10/dist-packages (from tldextract->scrapy) (1.5.1)\n",
            "Requirement already satisfied: filelock>=3.0.8 in /usr/local/lib/python3.10/dist-packages (from tldextract->scrapy) (3.13.1)\n",
            "Requirement already satisfied: six in /usr/local/lib/python3.10/dist-packages (from Automat>=0.8.0->Twisted<23.8.0,>=18.9.0->scrapy) (1.16.0)\n",
            "Requirement already satisfied: pycparser in /usr/local/lib/python3.10/dist-packages (from cffi>=1.12->cryptography>=36.0.0->scrapy) (2.21)\n",
            "Requirement already satisfied: charset-normalizer<4,>=2 in /usr/local/lib/python3.10/dist-packages (from requests>=2.1.0->tldextract->scrapy) (3.3.2)\n",
            "Requirement already satisfied: urllib3<3,>=1.21.1 in /usr/local/lib/python3.10/dist-packages (from requests>=2.1.0->tldextract->scrapy) (1.26.18)\n",
            "Requirement already satisfied: certifi>=2017.4.17 in /usr/local/lib/python3.10/dist-packages (from requests>=2.1.0->tldextract->scrapy) (2023.11.17)\n",
            "Requirement already satisfied: requests-html in /usr/local/lib/python3.10/dist-packages (0.10.0)\n",
            "Requirement already satisfied: requests in /usr/local/lib/python3.10/dist-packages (from requests-html) (2.31.0)\n",
            "Requirement already satisfied: pyquery in /usr/local/lib/python3.10/dist-packages (from requests-html) (2.0.0)\n",
            "Requirement already satisfied: fake-useragent in /usr/local/lib/python3.10/dist-packages (from requests-html) (1.4.0)\n",
            "Requirement already satisfied: parse in /usr/local/lib/python3.10/dist-packages (from requests-html) (1.20.0)\n",
            "Requirement already satisfied: bs4 in /usr/local/lib/python3.10/dist-packages (from requests-html) (0.0.1)\n",
            "Requirement already satisfied: w3lib in /usr/local/lib/python3.10/dist-packages (from requests-html) (2.1.2)\n",
            "Requirement already satisfied: pyppeteer>=0.0.14 in /usr/local/lib/python3.10/dist-packages (from requests-html) (1.0.2)\n",
            "Requirement already satisfied: appdirs<2.0.0,>=1.4.3 in /usr/local/lib/python3.10/dist-packages (from pyppeteer>=0.0.14->requests-html) (1.4.4)\n",
            "Requirement already satisfied: certifi>=2021 in /usr/local/lib/python3.10/dist-packages (from pyppeteer>=0.0.14->requests-html) (2023.11.17)\n",
            "Requirement already satisfied: importlib-metadata>=1.4 in /usr/local/lib/python3.10/dist-packages (from pyppeteer>=0.0.14->requests-html) (7.0.0)\n",
            "Requirement already satisfied: pyee<9.0.0,>=8.1.0 in /usr/local/lib/python3.10/dist-packages (from pyppeteer>=0.0.14->requests-html) (8.2.2)\n",
            "Requirement already satisfied: tqdm<5.0.0,>=4.42.1 in /usr/local/lib/python3.10/dist-packages (from pyppeteer>=0.0.14->requests-html) (4.66.1)\n",
            "Requirement already satisfied: urllib3<2.0.0,>=1.25.8 in /usr/local/lib/python3.10/dist-packages (from pyppeteer>=0.0.14->requests-html) (1.26.18)\n",
            "Requirement already satisfied: websockets<11.0,>=10.0 in /usr/local/lib/python3.10/dist-packages (from pyppeteer>=0.0.14->requests-html) (10.4)\n",
            "Requirement already satisfied: beautifulsoup4 in /usr/local/lib/python3.10/dist-packages (from bs4->requests-html) (4.11.2)\n",
            "Requirement already satisfied: lxml>=2.1 in /usr/local/lib/python3.10/dist-packages (from pyquery->requests-html) (4.9.3)\n",
            "Requirement already satisfied: cssselect>=1.2.0 in /usr/local/lib/python3.10/dist-packages (from pyquery->requests-html) (1.2.0)\n",
            "Requirement already satisfied: charset-normalizer<4,>=2 in /usr/local/lib/python3.10/dist-packages (from requests->requests-html) (3.3.2)\n",
            "Requirement already satisfied: idna<4,>=2.5 in /usr/local/lib/python3.10/dist-packages (from requests->requests-html) (3.6)\n",
            "Requirement already satisfied: zipp>=0.5 in /usr/local/lib/python3.10/dist-packages (from importlib-metadata>=1.4->pyppeteer>=0.0.14->requests-html) (3.17.0)\n",
            "Requirement already satisfied: soupsieve>1.2 in /usr/local/lib/python3.10/dist-packages (from beautifulsoup4->bs4->requests-html) (2.5)\n",
            "Requirement already satisfied: selenium in /usr/local/lib/python3.10/dist-packages (4.16.0)\n",
            "Requirement already satisfied: urllib3[socks]<3,>=1.26 in /usr/local/lib/python3.10/dist-packages (from selenium) (1.26.18)\n",
            "Requirement already satisfied: trio~=0.17 in /usr/local/lib/python3.10/dist-packages (from selenium) (0.23.1)\n",
            "Requirement already satisfied: trio-websocket~=0.9 in /usr/local/lib/python3.10/dist-packages (from selenium) (0.11.1)\n",
            "Requirement already satisfied: certifi>=2021.10.8 in /usr/local/lib/python3.10/dist-packages (from selenium) (2023.11.17)\n",
            "Requirement already satisfied: attrs>=20.1.0 in /usr/local/lib/python3.10/dist-packages (from trio~=0.17->selenium) (23.1.0)\n",
            "Requirement already satisfied: sortedcontainers in /usr/local/lib/python3.10/dist-packages (from trio~=0.17->selenium) (2.4.0)\n",
            "Requirement already satisfied: idna in /usr/local/lib/python3.10/dist-packages (from trio~=0.17->selenium) (3.6)\n",
            "Requirement already satisfied: outcome in /usr/local/lib/python3.10/dist-packages (from trio~=0.17->selenium) (1.3.0.post0)\n",
            "Requirement already satisfied: sniffio>=1.3.0 in /usr/local/lib/python3.10/dist-packages (from trio~=0.17->selenium) (1.3.0)\n",
            "Requirement already satisfied: exceptiongroup>=1.0.0rc9 in /usr/local/lib/python3.10/dist-packages (from trio~=0.17->selenium) (1.2.0)\n",
            "Requirement already satisfied: wsproto>=0.14 in /usr/local/lib/python3.10/dist-packages (from trio-websocket~=0.9->selenium) (1.2.0)\n",
            "Requirement already satisfied: PySocks!=1.5.7,<2.0,>=1.5.6 in /usr/local/lib/python3.10/dist-packages (from urllib3[socks]<3,>=1.26->selenium) (1.7.1)\n",
            "Requirement already satisfied: h11<1,>=0.9.0 in /usr/local/lib/python3.10/dist-packages (from wsproto>=0.14->trio-websocket~=0.9->selenium) (0.14.0)\n"
          ]
        }
      ],
      "source": [
        "!pip install lxml\n",
        "!pip install scrapy\n",
        "!pip3 install requests-html\n",
        "!pip3 install selenium"
      ]
    },
    {
      "cell_type": "code",
      "source": [
        "%%shell\n",
        "# Install chromedriver\n",
        "# Credits: https://medium.com/@MinatoNamikaze02/running-selenium-on-google-colab-a118d10ca5f8\n",
        "sudo apt -y update\n",
        "sudo apt install -y wget curl unzip\n",
        "wget http://archive.ubuntu.com/ubuntu/pool/main/libu/libu2f-host/libu2f-udev_1.1.4-1_all.deb\n",
        "dpkg -i libu2f-udev_1.1.4-1_all.deb\n",
        "wget https://dl.google.com/linux/direct/google-chrome-stable_current_amd64.deb\n",
        "dpkg -i google-chrome-stable_current_amd64.deb\n",
        "\n",
        "wget -N https://edgedl.me.gvt1.com/edgedl/chrome/chrome-for-testing/120.0.6099.62/linux64/chromedriver-linux64.zip -P /tmp/\n",
        "unzip -o /tmp/chromedriver-linux64.zip -d /tmp/\n",
        "chmod +x /tmp/chromedriver-linux64/chromedriver\n",
        "mv /tmp/chromedriver-linux64/chromedriver /usr/local/bin/chromedriver\n",
        "\n",
        "pip install selenium chromedriver_autoinstaller"
      ],
      "metadata": {
        "colab": {
          "base_uri": "https://localhost:8080/"
        },
        "id": "g7h9wGJ10vay",
        "outputId": "1a0cb134-e445-4862-e1b0-47035b89768e"
      },
      "id": "g7h9wGJ10vay",
      "execution_count": 17,
      "outputs": [
        {
          "output_type": "stream",
          "name": "stdout",
          "text": [
            "\u001b[33m\r0% [Working]\u001b[0m\r            \rHit:1 https://cloud.r-project.org/bin/linux/ubuntu jammy-cran40/ InRelease\n",
            "\u001b[33m\r0% [Connecting to archive.ubuntu.com (185.125.190.36)] [Waiting for headers] [C\u001b[0m\r                                                                               \rHit:2 https://developer.download.nvidia.com/compute/cuda/repos/ubuntu2204/x86_64  InRelease\n",
            "\u001b[33m\r0% [Connecting to archive.ubuntu.com (185.125.190.36)] [Waiting for headers] [C\u001b[0m\r                                                                               \rHit:3 http://security.ubuntu.com/ubuntu jammy-security InRelease\n",
            "Hit:4 http://archive.ubuntu.com/ubuntu jammy InRelease\n",
            "Hit:5 http://archive.ubuntu.com/ubuntu jammy-updates InRelease\n",
            "Hit:6 http://archive.ubuntu.com/ubuntu jammy-backports InRelease\n",
            "Hit:7 https://ppa.launchpadcontent.net/c2d4u.team/c2d4u4.0+/ubuntu jammy InRelease\n",
            "Hit:8 https://ppa.launchpadcontent.net/deadsnakes/ppa/ubuntu jammy InRelease\n",
            "Hit:9 https://ppa.launchpadcontent.net/graphics-drivers/ppa/ubuntu jammy InRelease\n",
            "Hit:10 https://ppa.launchpadcontent.net/ubuntugis/ppa/ubuntu jammy InRelease\n",
            "Reading package lists... Done\n",
            "Building dependency tree... Done\n",
            "Reading state information... Done\n",
            "20 packages can be upgraded. Run 'apt list --upgradable' to see them.\n",
            "Reading package lists... Done\n",
            "Building dependency tree... Done\n",
            "Reading state information... Done\n",
            "wget is already the newest version (1.21.2-2ubuntu1).\n",
            "curl is already the newest version (7.81.0-1ubuntu1.15).\n",
            "unzip is already the newest version (6.0-26ubuntu3.1).\n",
            "You might want to run 'apt --fix-broken install' to correct these.\n",
            "The following packages have unmet dependencies:\n",
            " google-chrome-stable : Depends: libvulkan1 but it is not going to be installed\n",
            "\u001b[1;31mE: \u001b[0mUnmet dependencies. Try 'apt --fix-broken install' with no packages (or specify a solution).\u001b[0m\n",
            "--2023-12-06 20:37:37--  http://archive.ubuntu.com/ubuntu/pool/main/libu/libu2f-host/libu2f-udev_1.1.4-1_all.deb\n",
            "Resolving archive.ubuntu.com (archive.ubuntu.com)... 185.125.190.36, 91.189.91.82, 91.189.91.81, ...\n",
            "Connecting to archive.ubuntu.com (archive.ubuntu.com)|185.125.190.36|:80... connected.\n",
            "HTTP request sent, awaiting response... 200 OK\n",
            "Length: 3708 (3.6K) [application/x-debian-package]\n",
            "Saving to: ‘libu2f-udev_1.1.4-1_all.deb.1’\n",
            "\n",
            "libu2f-udev_1.1.4-1 100%[===================>]   3.62K  --.-KB/s    in 0s      \n",
            "\n",
            "2023-12-06 20:37:38 (440 MB/s) - ‘libu2f-udev_1.1.4-1_all.deb.1’ saved [3708/3708]\n",
            "\n",
            "(Reading database ... 121019 files and directories currently installed.)\n",
            "Preparing to unpack libu2f-udev_1.1.4-1_all.deb ...\n",
            "Unpacking libu2f-udev (1.1.4-1) over (1.1.4-1) ...\n",
            "Setting up libu2f-udev (1.1.4-1) ...\n",
            "--2023-12-06 20:37:38--  https://dl.google.com/linux/direct/google-chrome-stable_current_amd64.deb\n",
            "Resolving dl.google.com (dl.google.com)... 142.250.141.136, 142.250.141.190, 142.250.141.93, ...\n",
            "Connecting to dl.google.com (dl.google.com)|142.250.141.136|:443... connected.\n",
            "HTTP request sent, awaiting response... 200 OK\n",
            "Length: 104920896 (100M) [application/x-debian-package]\n",
            "Saving to: ‘google-chrome-stable_current_amd64.deb.1’\n",
            "\n",
            "google-chrome-stabl 100%[===================>] 100.06M   462MB/s    in 0.2s    \n",
            "\n",
            "2023-12-06 20:37:39 (462 MB/s) - ‘google-chrome-stable_current_amd64.deb.1’ saved [104920896/104920896]\n",
            "\n",
            "(Reading database ... 121019 files and directories currently installed.)\n",
            "Preparing to unpack google-chrome-stable_current_amd64.deb ...\n",
            "Unpacking google-chrome-stable (120.0.6099.62-1) over (120.0.6099.62-1) ...\n",
            "\u001b[1mdpkg:\u001b[0m dependency problems prevent configuration of google-chrome-stable:\n",
            " google-chrome-stable depends on libvulkan1; however:\n",
            "  Package libvulkan1 is not installed.\n",
            "\n",
            "\u001b[1mdpkg:\u001b[0m error processing package google-chrome-stable (--install):\n",
            " dependency problems - leaving unconfigured\n",
            "Processing triggers for man-db (2.10.2-1) ...\n",
            "Errors were encountered while processing:\n",
            " google-chrome-stable\n",
            "--2023-12-06 20:37:49--  https://edgedl.me.gvt1.com/edgedl/chrome/chrome-for-testing/120.0.6099.62/linux64/chromedriver-linux64.zip\n",
            "Resolving edgedl.me.gvt1.com (edgedl.me.gvt1.com)... 34.104.35.123, 2600:1900:4110:86f::\n",
            "Connecting to edgedl.me.gvt1.com (edgedl.me.gvt1.com)|34.104.35.123|:443... connected.\n",
            "HTTP request sent, awaiting response... 200 OK\n",
            "Length: 8574825 (8.2M) [application/octet-stream]\n",
            "Saving to: ‘/tmp/chromedriver-linux64.zip’\n",
            "\n",
            "chromedriver-linux6 100%[===================>]   8.18M  25.9MB/s    in 0.3s    \n",
            "\n",
            "2023-12-06 20:37:50 (25.9 MB/s) - ‘/tmp/chromedriver-linux64.zip’ saved [8574825/8574825]\n",
            "\n",
            "Archive:  /tmp/chromedriver-linux64.zip\n",
            "  inflating: /tmp/chromedriver-linux64/LICENSE.chromedriver  \n",
            "  inflating: /tmp/chromedriver-linux64/chromedriver  \n",
            "Requirement already satisfied: selenium in /usr/local/lib/python3.10/dist-packages (4.16.0)\n",
            "Requirement already satisfied: chromedriver_autoinstaller in /usr/local/lib/python3.10/dist-packages (0.6.3)\n",
            "Requirement already satisfied: urllib3[socks]<3,>=1.26 in /usr/local/lib/python3.10/dist-packages (from selenium) (1.26.18)\n",
            "Requirement already satisfied: trio~=0.17 in /usr/local/lib/python3.10/dist-packages (from selenium) (0.23.1)\n",
            "Requirement already satisfied: trio-websocket~=0.9 in /usr/local/lib/python3.10/dist-packages (from selenium) (0.11.1)\n",
            "Requirement already satisfied: certifi>=2021.10.8 in /usr/local/lib/python3.10/dist-packages (from selenium) (2023.11.17)\n",
            "Requirement already satisfied: packaging>=23.1 in /usr/local/lib/python3.10/dist-packages (from chromedriver_autoinstaller) (23.2)\n",
            "Requirement already satisfied: attrs>=20.1.0 in /usr/local/lib/python3.10/dist-packages (from trio~=0.17->selenium) (23.1.0)\n",
            "Requirement already satisfied: sortedcontainers in /usr/local/lib/python3.10/dist-packages (from trio~=0.17->selenium) (2.4.0)\n",
            "Requirement already satisfied: idna in /usr/local/lib/python3.10/dist-packages (from trio~=0.17->selenium) (3.6)\n",
            "Requirement already satisfied: outcome in /usr/local/lib/python3.10/dist-packages (from trio~=0.17->selenium) (1.3.0.post0)\n",
            "Requirement already satisfied: sniffio>=1.3.0 in /usr/local/lib/python3.10/dist-packages (from trio~=0.17->selenium) (1.3.0)\n",
            "Requirement already satisfied: exceptiongroup>=1.0.0rc9 in /usr/local/lib/python3.10/dist-packages (from trio~=0.17->selenium) (1.2.0)\n",
            "Requirement already satisfied: wsproto>=0.14 in /usr/local/lib/python3.10/dist-packages (from trio-websocket~=0.9->selenium) (1.2.0)\n",
            "Requirement already satisfied: PySocks!=1.5.7,<2.0,>=1.5.6 in /usr/local/lib/python3.10/dist-packages (from urllib3[socks]<3,>=1.26->selenium) (1.7.1)\n",
            "Requirement already satisfied: h11<1,>=0.9.0 in /usr/local/lib/python3.10/dist-packages (from wsproto>=0.14->trio-websocket~=0.9->selenium) (0.14.0)\n"
          ]
        },
        {
          "output_type": "execute_result",
          "data": {
            "text/plain": []
          },
          "metadata": {},
          "execution_count": 17
        }
      ]
    },
    {
      "cell_type": "markdown",
      "id": "634627c4",
      "metadata": {
        "id": "634627c4"
      },
      "source": [
        "### Web Scraping real estate data\n",
        "This section explains the web scraping process applied to the fincaraiz.com.co web page."
      ]
    },
    {
      "cell_type": "code",
      "execution_count": null,
      "id": "270a026f",
      "metadata": {
        "id": "270a026f"
      },
      "outputs": [],
      "source": [
        "# !pip install undetected_chromedriver"
      ]
    },
    {
      "cell_type": "markdown",
      "id": "2cee4321",
      "metadata": {
        "id": "2cee4321"
      },
      "source": [
        "## Import required libraries\n",
        "\n",
        "\n",
        "---"
      ]
    },
    {
      "cell_type": "code",
      "source": [
        "'''\n",
        "credits:\n",
        "https://github.com/googlecolab/colabtools/issues/3347\n",
        "https://stackoverflow.com/questions/51046454/how-can-we-use-selenium-webdriver-in-colab-research-google-com\n",
        "Sept 19, 2023\n",
        "'''\n",
        "\n",
        "#\n",
        "!pip3 install chromedriver-autoinstaller\n",
        "\n",
        "import sys\n",
        "sys.path.insert(0,'/usr/lib/chromium-browser/chromedriver')\n",
        "\n",
        "import time\n",
        "import pandas as pd\n",
        "from bs4 import BeautifulSoup as bs\n",
        "from selenium import webdriver\n",
        "import chromedriver_autoinstaller"
      ],
      "metadata": {
        "colab": {
          "base_uri": "https://localhost:8080/"
        },
        "id": "p301W6XKx_3x",
        "outputId": "f781a738-a3f5-4439-ae5d-0c57e2f10487"
      },
      "id": "p301W6XKx_3x",
      "execution_count": 18,
      "outputs": [
        {
          "output_type": "stream",
          "name": "stdout",
          "text": [
            "Requirement already satisfied: chromedriver-autoinstaller in /usr/local/lib/python3.10/dist-packages (0.6.3)\n",
            "Requirement already satisfied: packaging>=23.1 in /usr/local/lib/python3.10/dist-packages (from chromedriver-autoinstaller) (23.2)\n"
          ]
        }
      ]
    },
    {
      "cell_type": "markdown",
      "source": [
        "## Setup chrome and chrome driver\n",
        "\n",
        "\n",
        "---\n",
        "\n"
      ],
      "metadata": {
        "id": "yH4V_gqSoMY3"
      },
      "id": "yH4V_gqSoMY3"
    },
    {
      "cell_type": "code",
      "source": [
        "# setup chrome options\n",
        "chrome_options = webdriver.ChromeOptions()\n",
        "chrome_options.add_argument('--headless') # ensure GUI is off\n",
        "chrome_options.add_argument('--no-sandbox')\n",
        "chrome_options.add_argument('--disable-dev-shm-usage')\n",
        "\n",
        "# # set path to chromedriver as per your configuration\n",
        "# chromedriver_autoinstaller.install()"
      ],
      "metadata": {
        "id": "bkwNiDUhoSIO"
      },
      "id": "bkwNiDUhoSIO",
      "execution_count": 19,
      "outputs": []
    },
    {
      "cell_type": "markdown",
      "source": [
        "\n",
        "## Section to declare functions\n",
        "\n",
        "---\n",
        "\n"
      ],
      "metadata": {
        "id": "BtniE5ULxd13"
      },
      "id": "BtniE5ULxd13"
    },
    {
      "cell_type": "markdown",
      "source": [
        "### Function gethref"
      ],
      "metadata": {
        "id": "wcITlNc7kZUU"
      },
      "id": "wcITlNc7kZUU"
    },
    {
      "cell_type": "code",
      "execution_count": 8,
      "id": "3ae3aaa8",
      "metadata": {
        "id": "3ae3aaa8"
      },
      "outputs": [],
      "source": [
        "#Function to get 'href' from each article item\n",
        "def gethref(soup):\n",
        "\n",
        "    links = []\n",
        "    for article in soup.find_all('article'):\n",
        "        url = article.find('a', href=True)\n",
        "        if url:\n",
        "            link = url['href']\n",
        "            links.append(link)\n",
        "    print(\"Href obtained: \", len(links))\n",
        "\n",
        "    return links"
      ]
    },
    {
      "cell_type": "markdown",
      "source": [
        "### Function remove_proyectos"
      ],
      "metadata": {
        "id": "4o6ufOvVkfeM"
      },
      "id": "4o6ufOvVkfeM"
    },
    {
      "cell_type": "code",
      "execution_count": 9,
      "id": "729fbbfa",
      "metadata": {
        "id": "729fbbfa"
      },
      "outputs": [],
      "source": [
        "#Function to remove \"/proyectos-de-vivienda\" articles\n",
        "def remove_proyectos(links):\n",
        "\n",
        "    ind = [x.find(\"/proyecto-de-vivienda\") for x in links]\n",
        "    ind2del = []\n",
        "    i=0\n",
        "    for x in ind:\n",
        "        if x == 0:\n",
        "            ind2del.append(i)\n",
        "        i = i +1\n",
        "\n",
        "    url_inmuebles_todelete = []\n",
        "    [url_inmuebles_todelete.append(links[x]) for x in ind2del]\n",
        "    print(\"Articles '/proyecto-de-vivienda' identified: \", len(url_inmuebles_todelete))\n",
        "\n",
        "    url_inmuebles = 0\n",
        "    url_inmuebles = links\n",
        "    for i in range(len(url_inmuebles_todelete)):\n",
        "        url_inmuebles.remove(url_inmuebles_todelete[i])\n",
        "\n",
        "    return url_inmuebles"
      ]
    },
    {
      "cell_type": "markdown",
      "source": [
        "### Function scrapper"
      ],
      "metadata": {
        "id": "OGDlMylHklWl"
      },
      "id": "OGDlMylHklWl"
    },
    {
      "cell_type": "code",
      "execution_count": 10,
      "id": "3ed603ae",
      "metadata": {
        "id": "3ed603ae"
      },
      "outputs": [],
      "source": [
        "#Function to call housing_features routine on each href\n",
        "def scrapper(url_inmueble):\n",
        "\n",
        "    url_inm = 'https://www.fincaraiz.com.co'+ url_inmueble + '/'\n",
        "    print(url_inm)\n",
        "\n",
        "    # set up the webdriver\n",
        "    driver = webdriver.Chrome(options=chrome_options)\n",
        "\n",
        "    # Scrape\n",
        "    driver.get(url_inm)\n",
        "    driver.implicitly_wait(10)\n",
        "    html=driver.page_source\n",
        "    soup = bs(html,'lxml')\n",
        "\n",
        "\n",
        "\n",
        "    #Obtaining the html from the web page after applying Selenium\n",
        "    soup=bs(html,'lxml')\n",
        "\n",
        "    #Create a list to store info obtained from one particular property\n",
        "    features = []\n",
        "\n",
        "    #Applying function to obtain variables defined from one particular property\n",
        "    features = housing_features(soup)\n",
        "\n",
        "    #Close the web browser tab\n",
        "    driver.close()\n",
        "\n",
        "    # quit the driver\n",
        "    driver.quit()\n",
        "\n",
        "    return(features)"
      ]
    },
    {
      "cell_type": "markdown",
      "source": [
        "### Function housing_features"
      ],
      "metadata": {
        "id": "LuAn5qaikpLH"
      },
      "id": "LuAn5qaikpLH"
    },
    {
      "cell_type": "code",
      "execution_count": 11,
      "id": "23acf2f0",
      "metadata": {
        "id": "23acf2f0"
      },
      "outputs": [],
      "source": [
        "# Version 1.0\n",
        "def housing_features(soup):\n",
        "\n",
        "    #Obtaining whole info from the html section that stores main housing variables\n",
        "    s = soup.find('main',{'class':'jss6'}).find_all('p')\n",
        "    print(s)\n",
        "\n",
        "    #Extract first 10 features from soup\n",
        "    plist = varsfromscrap(s)\n",
        "\n",
        "    #Extracting and adding name to features list\n",
        "    aux1 = soup.find('header',{'class': 'jss115'}).find_all('p')[0].text.split(' ')\n",
        "    plist.append(aux1[0])\n",
        "    print(\"El tipo de vivienda es: \" + aux1[0])\n",
        "\n",
        "    #Extracting and adding location to features list\n",
        "    p = soup.find('div',{'class': 'jss123'}).find_all('p')[1].text.split('-')\n",
        "    plist.append(p[0].strip())\n",
        "\n",
        "    #Extracting and adding price to features list\n",
        "    #Verification to find the price because the card may include a header <p>with news about the price.\n",
        "    #For instance: \"El precio bajó recientemente\".\n",
        "    #That kind of label shifts the position of the <p> corresponding to the price.\n",
        "    try:\n",
        "        p=soup.find('div',{'class': 'jss10'}).find_all('p')[1].text\n",
        "        aux = p.replace('$\\xa0','').replace('.','')\n",
        "        plist.append(int(aux))\n",
        "    except:\n",
        "        p=soup.find('div',{'class': 'jss10'}).find_all('p')[2].text\n",
        "        aux = p.replace('$\\xa0','').replace('.','')\n",
        "        plist.append(int(aux))\n",
        "\n",
        "    return plist"
      ]
    },
    {
      "cell_type": "markdown",
      "source": [
        "### Function scrapebyPages"
      ],
      "metadata": {
        "id": "RuMHDnfslfak"
      },
      "id": "RuMHDnfslfak"
    },
    {
      "cell_type": "code",
      "execution_count": 12,
      "id": "0b4086fc",
      "metadata": {
        "id": "0b4086fc"
      },
      "outputs": [],
      "source": [
        "def scrapebyPages(min, max):\n",
        "  #Range of pages from the total search to scrape in.\n",
        "  #It is recomended to cover a range of one hundred pages in each iteration of this section.\n",
        "  for i in range(min,max):\n",
        "\n",
        "      pag = i\n",
        "      url = f'https://www.fincaraiz.com.co/apartamentos-casas/venta/bogota/bogota-dc?pagina={pag}'\n",
        "      print(url)\n",
        "\n",
        "      driver = webdriver.Chrome(options=chrome_options)\n",
        "      driver.get(url)\n",
        "      driver.implicitly_wait(10)\n",
        "      html = driver.page_source\n",
        "      soup = bs(html,'lxml')\n",
        "\n",
        "      #Get href\n",
        "      links = gethref(soup)\n",
        "      print(links)\n",
        "\n",
        "      #Remove \"Proyectos de vivienda\"\n",
        "      url_inmuebles = []\n",
        "      url_inmuebles = remove_proyectos(links)\n",
        "      print(url_inmuebles)\n",
        "\n",
        "      #Scrapping\n",
        "      p = []\n",
        "      #Scrapping a los inmuebles filtrados\n",
        "      for i in range(len(url_inmuebles)):\n",
        "          print('Scrapping', i, '/', len(url_inmuebles), '...')\n",
        "          p.append(scrapper(url_inmuebles[i]))\n",
        "          print(p[i])\n",
        "\n",
        "          #append list to DataFrame\n",
        "          data.loc[len(data)] = p[i]\n",
        "\n",
        "  #Close the web browser tab\n",
        "  driver.close()\n",
        "\n",
        "  # quit the driver\n",
        "  driver.quit()\n",
        "\n",
        "  return data"
      ]
    },
    {
      "cell_type": "markdown",
      "source": [
        "### Function varsfromscrap"
      ],
      "metadata": {
        "id": "VT6YfH1csErC"
      },
      "id": "VT6YfH1csErC"
    },
    {
      "cell_type": "code",
      "execution_count": 13,
      "id": "e42a7a9f",
      "metadata": {
        "id": "e42a7a9f"
      },
      "outputs": [],
      "source": [
        "#Function to extract first 10 features from soup\n",
        "def varsfromscrap(soup):\n",
        "\n",
        "    features = [0]*28\n",
        "\n",
        "    #Transform from bs4.element.ResultSet to list\n",
        "    plist = []\n",
        "#     for i in range(len(soup)-1):\n",
        "    for j in range(len(soup)-3):\n",
        "        plist.append(soup[j].text)\n",
        "\n",
        "    #***Habitaciones***\n",
        "    try:\n",
        "        i = plist.index(\"Habitaciones\")\n",
        "        features[0] = plist[i+1]\n",
        "    except:\n",
        "        features[0] = 'No definida'\n",
        "\n",
        "    #***Baños***\n",
        "    try:\n",
        "        i = plist.index(\"Baños\")\n",
        "        features[1] = plist[i+1]\n",
        "    except:\n",
        "        features[1] = 'No definida'\n",
        "\n",
        "    #***Parqueaderos***\n",
        "    try:\n",
        "        i = plist.index(\"Parqueaderos\")\n",
        "        features[2] = plist[i+1]\n",
        "    except:\n",
        "        features[2] = '0'\n",
        "\n",
        "    #***Área construída***\n",
        "    try:\n",
        "        i = plist.index(\"Área construída\")\n",
        "        features[3] = plist[i+1]\n",
        "    except:\n",
        "        features[3] = 'No definida'\n",
        "\n",
        "    #***Área privada***\n",
        "    try:\n",
        "        i = plist.index(\"Área privada\")\n",
        "        features[4] = plist[i+1]\n",
        "    except:\n",
        "        features[4] = 'No definida'\n",
        "\n",
        "    #***Estrato***\n",
        "    try:\n",
        "        i = plist.index(\"Estrato\")\n",
        "        features[5] = plist[i+1]\n",
        "    except:\n",
        "        features[5] = 'No definida'\n",
        "\n",
        "    #***Estado***\n",
        "    try:\n",
        "        i = plist.index(\"Estado\")\n",
        "        features[6] = plist[i+1]\n",
        "    except:\n",
        "        features[6] = 'No definida'\n",
        "\n",
        "    #***Antigüedad***\n",
        "    try:\n",
        "        i = plist.index(\"Antigüedad\")\n",
        "        features[7] = plist[i+1]\n",
        "    except:\n",
        "        features[7] = 'No definida'\n",
        "\n",
        "    #***Administración***\n",
        "    try:\n",
        "        i = plist.index(\"Administración\")\n",
        "        features[8] = plist[i+1]\n",
        "    except:\n",
        "        features[8] = 'No definida'\n",
        "\n",
        "    #***Precio m²***\n",
        "    try:\n",
        "        i = plist.index(\"Precio m²\")\n",
        "        features[9] = plist[i+1]\n",
        "    except:\n",
        "        features[9] = 'No definida'\n",
        "\n",
        "    #***Ascensor***\n",
        "    try:\n",
        "        i = plist.index(\"Ascensor\")\n",
        "        features[10] = 1\n",
        "    except:\n",
        "        features[10] = 0\n",
        "\n",
        "    #***Circuito cerrado de TV***\n",
        "    try:\n",
        "        i = plist.index(\"Circuito cerrado de TV\")\n",
        "        features[11] = 1\n",
        "    except:\n",
        "        features[11] = 0\n",
        "\n",
        "    #***Parqueadero Visitantes***\n",
        "    try:\n",
        "        i = plist.index(\"Parqueadero Visitantes\")\n",
        "        features[12] = 1\n",
        "    except:\n",
        "        features[12] = 0\n",
        "\n",
        "    #***Portería / Recepción***\n",
        "    try:\n",
        "        i = plist.index(\"Portería / Recepción\")\n",
        "        features[13] = 1\n",
        "    except:\n",
        "        features[13] = 0\n",
        "\n",
        "    #***Zonas Verdes***\n",
        "    try:\n",
        "        i = plist.index(\"Zonas Verdes\")\n",
        "        features[14] = 1\n",
        "    except:\n",
        "        features[14] = 0\n",
        "\n",
        "     #***Salón Comunal***\n",
        "    try:\n",
        "        i = plist.index(\"Salón Comunal\")\n",
        "        features[15] = 1\n",
        "    except:\n",
        "        features[15] = 0\n",
        "\n",
        "     #***Balcón***\n",
        "    try:\n",
        "        i = plist.index(\"Balcón\")\n",
        "        features[16] = 1\n",
        "    except:\n",
        "        features[16] = 0\n",
        "\n",
        "     #***Barra estilo americano***\n",
        "    try:\n",
        "        i = plist.index(\"Barra estilo americano\")\n",
        "        features[17] = 1\n",
        "    except:\n",
        "        features[17] = 0\n",
        "\n",
        "     #***Calentador***\n",
        "    try:\n",
        "        i = plist.index(\"Calentador\")\n",
        "        features[18] = 1\n",
        "    except:\n",
        "        features[18] = 0\n",
        "\n",
        "     #***Chimenea***\n",
        "    try:\n",
        "        i = plist.index(\"Chimenea\")\n",
        "        features[19] = 1\n",
        "    except:\n",
        "        features[19] = 0\n",
        "\n",
        "    #***Citófono***\n",
        "    try:\n",
        "        i = plist.index(\"Citófono\")\n",
        "        features[20] = 1\n",
        "    except:\n",
        "        features[20] = 0\n",
        "\n",
        "    #***Cocina Integral***\n",
        "    try:\n",
        "        i = plist.index(\"Cocina Integral\")\n",
        "        features[21] = 1\n",
        "    except:\n",
        "        features[21] = 0\n",
        "\n",
        "    #***Terraza***\n",
        "    try:\n",
        "        i = plist.index(\"Terraza\")\n",
        "        features[22] = 1\n",
        "    except:\n",
        "        features[22] = 0\n",
        "\n",
        "    #***Vigilancia***\n",
        "    try:\n",
        "        i = plist.index(\"Vigilancia\")\n",
        "        features[23] = 1\n",
        "    except:\n",
        "        features[23] = 0\n",
        "\n",
        "    #***Parques cercanos***\n",
        "    try:\n",
        "        i = plist.index(\"Parques cercanos\")\n",
        "        features[24] = 1\n",
        "    except:\n",
        "        features[24] = 0\n",
        "\n",
        "     #***Estudio***\n",
        "    try:\n",
        "        i = plist.index(\"Estudio\")\n",
        "        features[25] = 1\n",
        "    except:\n",
        "        features[25] = 0\n",
        "\n",
        "     #***Patio***\n",
        "    try:\n",
        "        i = plist.index(\"Patio\")\n",
        "        features[26] = 1\n",
        "    except:\n",
        "        features[26] = 0\n",
        "\n",
        "     #***Depósito / Bodega***\n",
        "    try:\n",
        "        i = plist.index(\"Depósito / Bodega\")\n",
        "        features[27] = 1\n",
        "    except:\n",
        "        features[27] = 0\n",
        "\n",
        "\n",
        "    return features\n"
      ]
    },
    {
      "cell_type": "markdown",
      "source": [
        "## Start scraping\n",
        "\n",
        "---"
      ],
      "metadata": {
        "id": "aVJILRDRovcE"
      },
      "id": "aVJILRDRovcE"
    },
    {
      "cell_type": "code",
      "source": [
        "from selenium.webdriver.support.ui import WebDriverWait\n",
        "from selenium.webdriver.support import expected_conditions as EC\n",
        "from selenium.webdriver.common.by import By"
      ],
      "metadata": {
        "id": "gXxtjYNpq7_L"
      },
      "id": "gXxtjYNpq7_L",
      "execution_count": 20,
      "outputs": []
    },
    {
      "cell_type": "code",
      "source": [
        "cols = ['habitaciones','baños','parqueaderos','area_construida','area_privada','estrato','estado','antiguedad',\n",
        "        'administracion','precio_m2', 'Ascensor', 'Circuito cerrado de TV',\n",
        "       'Parqueadero Visitantes', 'Portería / Recepción', 'Zonas Verdes', 'Salón Comunal', 'Balcón',\n",
        "       'Barra estilo americano', 'Calentador', 'Chimenea', 'Citófono', 'Cocina Integral', 'Terraza',\n",
        "       'Vigilancia', 'Parques cercanos', 'Estudio', 'Patio', 'Depósito / Bodega', 'nombre','ubicacion','precio']\n",
        "data = pd.DataFrame(columns=cols)"
      ],
      "metadata": {
        "id": "0YMoQELUrUJr"
      },
      "id": "0YMoQELUrUJr",
      "execution_count": 21,
      "outputs": []
    },
    {
      "cell_type": "code",
      "source": [
        "data = scrapebyPages(3,6)"
      ],
      "metadata": {
        "colab": {
          "base_uri": "https://localhost:8080/"
        },
        "id": "MKU4dts4Hb2v",
        "outputId": "28857bb3-fb4f-4fe5-9389-66657b035eb6"
      },
      "id": "MKU4dts4Hb2v",
      "execution_count": null,
      "outputs": [
        {
          "output_type": "stream",
          "name": "stdout",
          "text": [
            "https://www.fincaraiz.com.co/apartamentos-casas/venta/bogota/bogota-dc?pagina=3\n",
            "Href obtained:  25\n",
            "['/inmueble/apartamento-en-venta/el-cortijo/bogota/10197211', '/inmueble/apartamento-en-venta/cedritos/bogota/10259782', '/inmueble/apartamento-en-venta/santa-barbara/bogota/10259644', '/inmueble/apartamento-en-venta/los-rosales/bogota/7934853', '/inmueble/apartamento-en-venta/santa-barbara/bogota/5214435', '/inmueble/apartamento-en-venta/cedritos/bogota/10284922', '/inmueble/apartamento-en-venta/bella-suiza/bogota/10141961', '/inmueble/casa-en-venta/bosa-los-naranjos/bogota/10101190', '/inmueble/casa-en-venta/alhambra/bogota/10207684', '/inmueble/apartamento-en-venta/pasadena/bogota/5424931', '/inmueble/casa-en-venta/villa-del-rio/bogota/10253062', '/inmueble/apartamento-en-venta/galan/bogota/10177924', '/inmueble/apartamento-en-venta/mazuren/bogota/10105232', '/inmueble/apartamento-en-venta/la-cabrera/bogota/10293217', '/inmueble/casa-en-venta/villas-del-mediterraneo/bogota/10157963', '/inmueble/apartamento-en-venta/santa-barbara/bogota/10160501', '/inmueble/apartamento-en-venta/benjamin-herrera/bogota/10182892', '/inmueble/apartamento-en-venta/colina-campestre/bogota/10189635', '/inmueble/casa-en-venta/timiza/bogota/10271271', '/inmueble/apartamento-en-venta/calleja-baja/bogota/10343381', '/inmueble/apartamento-en-venta/gran-granada/bogota/10332873', '/inmueble/apartamento-en-venta/hayuelos/bogota/10318064', '/inmueble/apartamento-en-venta/americas-central/bogota/7162620', '/inmueble/apartamento-en-venta/zona-chapinero/bogota/10255772', '/inmueble/apartamento-en-venta/madelena/bogota/10115147']\n",
            "Articles '/proyecto-de-vivienda' identified:  0\n",
            "['/inmueble/apartamento-en-venta/el-cortijo/bogota/10197211', '/inmueble/apartamento-en-venta/cedritos/bogota/10259782', '/inmueble/apartamento-en-venta/santa-barbara/bogota/10259644', '/inmueble/apartamento-en-venta/los-rosales/bogota/7934853', '/inmueble/apartamento-en-venta/santa-barbara/bogota/5214435', '/inmueble/apartamento-en-venta/cedritos/bogota/10284922', '/inmueble/apartamento-en-venta/bella-suiza/bogota/10141961', '/inmueble/casa-en-venta/bosa-los-naranjos/bogota/10101190', '/inmueble/casa-en-venta/alhambra/bogota/10207684', '/inmueble/apartamento-en-venta/pasadena/bogota/5424931', '/inmueble/casa-en-venta/villa-del-rio/bogota/10253062', '/inmueble/apartamento-en-venta/galan/bogota/10177924', '/inmueble/apartamento-en-venta/mazuren/bogota/10105232', '/inmueble/apartamento-en-venta/la-cabrera/bogota/10293217', '/inmueble/casa-en-venta/villas-del-mediterraneo/bogota/10157963', '/inmueble/apartamento-en-venta/santa-barbara/bogota/10160501', '/inmueble/apartamento-en-venta/benjamin-herrera/bogota/10182892', '/inmueble/apartamento-en-venta/colina-campestre/bogota/10189635', '/inmueble/casa-en-venta/timiza/bogota/10271271', '/inmueble/apartamento-en-venta/calleja-baja/bogota/10343381', '/inmueble/apartamento-en-venta/gran-granada/bogota/10332873', '/inmueble/apartamento-en-venta/hayuelos/bogota/10318064', '/inmueble/apartamento-en-venta/americas-central/bogota/7162620', '/inmueble/apartamento-en-venta/zona-chapinero/bogota/10255772', '/inmueble/apartamento-en-venta/madelena/bogota/10115147']\n",
            "Scrapping 0 / 25 ...\n",
            "https://www.fincaraiz.com.co/inmueble/apartamento-en-venta/el-cortijo/bogota/10197211/\n",
            "[<p class=\"jss65 jss70 jss133\">Apartamento en venta</p>, <p class=\"jss65 jss73 jss151\">Ubicación principal</p>, <p class=\"jss65 jss73 jss166\">El cortijo - Bogotá - Bogotá, d.c.</p>, <p class=\"jss65 jss73 jss181\">Ubicaciones asociadas</p>, <p class=\"jss65 jss73 jss196 jss126\">Engativá, El cortijo, Ub. el cortijo, Bogotá, Engativa, Zona norte, Bogotá, d.c.</p>, <p class=\"jss65 jss74 jss212 jss124\"><svg class=\"icon icon-eye\" fill=\"#077BE7\" height=\"24\" width=\"24\"><use href=\"/assets/svg/sprites.svg#icon-eye\" xlink:href=\"/assets/svg/sprites.svg#icon-eye\"></use></svg><span>Ver más</span></p>, <p class=\"jss65 jss74 jss245\">1 / 20</p>, <p class=\"jss65 jss71 jss273\">Descripción general</p>, <p class=\"jss65 jss73 jss290 jss265\">Apartamento en venta en El Cortijo con parqueadero cerca a Ciudadela Colsubsidio - Conjunto Ocre, de 57m2, con vista interior, ubicado en un 4to piso. Consta de 3 habitaciones,1 baño, sala comedor, cocina integral y zona de lavandería. Tiene piso cerámico en todas sus zonas. El conjunto cuenta con zonas verdes, zona social, parque infantil y vigilancia privada las 24 horas. Cerca del Centro Comercial El Cortijo; cerca a tiendas de barrio; cerca a colegio Ciudadela Colsubsidio; cerca a paraderos SITP; Vías de acceso por la Carrera 118 y Calle 82. Mayor información: Giovanni Fonseca/ Foncasa Inmobiliaria.</p>, <p class=\"jss65 jss74 jss306 jss264\">Código Fincaraíz: 10197211</p>, <p class=\"jss65 jss74 jss321 jss266\"><span>Leer más</span><svg class=\"icon icon-arrow-down-1\" fill=\"#077BE7\" height=\"12\" style=\"will-change:transform;transform:\" width=\"12\"><use href=\"/assets/svg/sprites.svg#icon-arrow-down-1\" xlink:href=\"/assets/svg/sprites.svg#icon-arrow-down-1\"></use></svg></p>, <p class=\"jss65 jss74 jss347\">Habitaciones</p>, <p class=\"jss65 jss74 jss362\">3</p>, <p class=\"jss65 jss74 jss380\">Baños</p>, <p class=\"jss65 jss74 jss395\">1</p>, <p class=\"jss65 jss74 jss413\">Parqueaderos</p>, <p class=\"jss65 jss74 jss428\">1</p>, <p class=\"jss65 jss74 jss446\">Área construída</p>, <p class=\"jss65 jss74 jss461\">57 m²</p>, <p class=\"jss65 jss74 jss479\">Área privada</p>, <p class=\"jss65 jss74 jss494\">56 m²</p>, <p class=\"jss65 jss74 jss512\">Estrato</p>, <p class=\"jss65 jss74 jss527\">3</p>, <p class=\"jss65 jss74 jss545\">Antigüedad</p>, <p class=\"jss65 jss74 jss560\">más de 30 años</p>, <p class=\"jss65 jss74 jss578\">Piso N°</p>, <p class=\"jss65 jss74 jss593\">4</p>, <p class=\"jss65 jss74 jss611\">Administración</p>, <p class=\"jss65 jss74 jss626\">$ 135.000 COP</p>, <p class=\"jss65 jss74 jss644\">Precio m²</p>, <p class=\"jss65 jss74 jss659\">$ 3.736.842,11*m²</p>, <p class=\"jss65 jss74 jss678\">La clasificación del estrato es potestativo del municipio, el anunciante no puede comprometerse con una clasificación determinada del estrato el cual queda definido en el momento de recibo de la obra.</p>, <p class=\"jss65 jss71 jss696 jss685\">Ubicación</p>, <p class=\"jss65 jss73 jss713\">Dirección</p>, <p class=\"jss65 jss73 jss729\">Preguntar al anunciante</p>, <p class=\"jss65 jss73 jss744\">Barrio</p>, <p class=\"jss65 jss73 jss759\">Engativá - Bogotá</p>, <p class=\"jss65 jss71 jss776\">Características</p>, <p class=\"jss65 jss73 jss800\">Circuito cerrado de TV</p>, <p class=\"jss65 jss73 jss816\">En conjunto cerrado</p>, <p class=\"jss65 jss73 jss832\">Garaje(s)</p>, <p class=\"jss65 jss73 jss848\">Jardín</p>, <p class=\"jss65 jss73 jss864\">Parqueadero Visitantes</p>, <p class=\"jss65 jss73 jss880\">Planta Eléctrica</p>, <p class=\"jss65 jss73 jss1294\">Citófono</p>, <p class=\"jss65 jss73 jss1310\">Cocina Integral</p>, <p class=\"jss65 jss73 jss1326\">Hall de Alcobas</p>, <p class=\"jss65 jss73 jss1342\">Instalación de gas</p>, <p class=\"jss65 jss73 jss1358\">Piso en Baldosa /  Mármol</p>, <p class=\"jss65 jss73 jss1374\">Zona de lavandería</p>, <p class=\"jss65 jss71 jss996\">Anuncio publicado por<!-- -->:</p>, <p class=\"jss65 jss74 jss1016\"><a class=\"jss988\" href=\"https://ms.fincaraiz.com.co/micrositio/e183ad0f-2ee4-4da7-8a4e-9c98faffefe0\" target=\"_blank\">FONCASA</a></p>, <p class=\"jss65 jss74 jss1031 jss990\">hace 16 horas</p>, <p class=\"jss65 jss71 jss1055 jss1040\">Anuncios de la inmobiliaria</p>, <p class=\"jss65 jss79 jss1284\">Reportar anuncio</p>, <p class=\"jss65 jss74 jss1121\">Precio total (COP)</p>, <p class=\"jss65 jss70 jss1132\">$ 213.000.000</p>, <p class=\"jss65 jss72 jss1150\">¿Te interesó este inmueble?</p>, <p class=\"jss65 jss79 jss1185\">Reportar anuncio</p>]\n",
            "El tipo de vivienda es: Apartamento\n",
            "['3', '1', '1', '57 m²', '56 m²', '3', 'No definida', 'más de 30 años', '$\\xa0135.000 COP', '$\\xa03.736.842,11*m²', 0, 1, 1, 0, 0, 0, 0, 0, 0, 0, 1, 1, 0, 0, 0, 0, 0, 0, 'Apartamento', 'El cortijo', 213000000]\n",
            "Scrapping 1 / 25 ...\n",
            "https://www.fincaraiz.com.co/inmueble/apartamento-en-venta/cedritos/bogota/10259782/\n",
            "[<p class=\"jss65 jss70 jss133\">Apartamento en venta</p>, <p class=\"jss65 jss73 jss151\">Ubicación principal</p>, <p class=\"jss65 jss73 jss166\">Cedritos - Bogotá - Bogotá, d.c.</p>, <p class=\"jss65 jss73 jss181\">Ubicaciones asociadas</p>, <p class=\"jss65 jss73 jss196 jss126\">Los cedros, Cedritos, Los cedritos, Bogotá, Usaquen, Zona norte, Bogotá, d.c.</p>, <p class=\"jss65 jss74 jss212 jss124\"><svg class=\"icon icon-eye\" fill=\"#077BE7\" height=\"24\" width=\"24\"><use href=\"/assets/svg/sprites.svg#icon-eye\" xlink:href=\"/assets/svg/sprites.svg#icon-eye\"></use></svg><span>Ver más</span></p>, <p class=\"jss65 jss74 jss245\">1 / 23</p>, <p class=\"jss65 jss71 jss273\">Descripción general</p>, <p class=\"jss65 jss73 jss290 jss265\">Lindo apartamento en moderno edificio, una alcoba con vestier y baño privado, baño social, sala comedor con chimenea a gas natural y balcón, amplia cocina abierta y zona de lavandería, dos garajes independientes y depósito. Moderno edificio con planta eléctrica, terraza con zona de BBQ y GYM. esta parte de Cedritos es muy tranquila, con amplias vías y lindos parques, zona muy segura por la cercanía a las casas fiscales de la Armada Nacional.</p>, <p class=\"jss65 jss74 jss306 jss264\">Código Fincaraíz: 10259782</p>, <p class=\"jss65 jss74 jss321 jss266\"><span>Leer más</span><svg class=\"icon icon-arrow-down-1\" fill=\"#077BE7\" height=\"12\" style=\"will-change:transform;transform:\" width=\"12\"><use href=\"/assets/svg/sprites.svg#icon-arrow-down-1\" xlink:href=\"/assets/svg/sprites.svg#icon-arrow-down-1\"></use></svg></p>, <p class=\"jss65 jss74 jss347\">Habitaciones</p>, <p class=\"jss65 jss74 jss362\">1</p>, <p class=\"jss65 jss74 jss380\">Baños</p>, <p class=\"jss65 jss74 jss395\">2</p>, <p class=\"jss65 jss74 jss413\">Parqueaderos</p>, <p class=\"jss65 jss74 jss428\">2</p>, <p class=\"jss65 jss74 jss446\">Área construída</p>, <p class=\"jss65 jss74 jss461\">50 m²</p>, <p class=\"jss65 jss74 jss479\">Área privada</p>, <p class=\"jss65 jss74 jss494\">50 m²</p>, <p class=\"jss65 jss74 jss512\">Estrato</p>, <p class=\"jss65 jss74 jss527\">4</p>, <p class=\"jss65 jss74 jss545\">Antigüedad</p>, <p class=\"jss65 jss74 jss560\">9 a 15 años</p>, <p class=\"jss65 jss74 jss578\">Piso N°</p>, <p class=\"jss65 jss74 jss593\">2</p>, <p class=\"jss65 jss74 jss611\">Administración</p>, <p class=\"jss65 jss74 jss626\">$ 275.000 COP</p>, <p class=\"jss65 jss74 jss644\">Precio m²</p>, <p class=\"jss65 jss74 jss659\">$ 6.000.000*m²</p>, <p class=\"jss65 jss74 jss678\">La clasificación del estrato es potestativo del municipio, el anunciante no puede comprometerse con una clasificación determinada del estrato el cual queda definido en el momento de recibo de la obra.</p>, <p class=\"jss65 jss71 jss696 jss685\">Ubicación</p>, <p class=\"jss65 jss73 jss713\">Dirección</p>, <p class=\"jss65 jss73 jss729\">Preguntar al anunciante</p>, <p class=\"jss65 jss73 jss744\">Barrio</p>, <p class=\"jss65 jss73 jss759\">Los cedros - Bogotá</p>, <p class=\"jss65 jss71 jss776\">Características</p>, <p class=\"jss65 jss73 jss800\">Ascensor</p>, <p class=\"jss65 jss73 jss816\">Circuito cerrado de TV</p>, <p class=\"jss65 jss73 jss832\">Garaje(s)</p>, <p class=\"jss65 jss73 jss848\">Gimnasio</p>, <p class=\"jss65 jss73 jss864\">Parqueadero Visitantes</p>, <p class=\"jss65 jss73 jss880\">Planta Eléctrica</p>, <p class=\"jss65 jss73 jss1288\">Balcón</p>, <p class=\"jss65 jss73 jss1304\">Baño Auxiliar</p>, <p class=\"jss65 jss73 jss1320\">Barra estilo americano</p>, <p class=\"jss65 jss73 jss1336\">Calentador</p>, <p class=\"jss65 jss73 jss1352\">Chimenea</p>, <p class=\"jss65 jss73 jss1368\">Citófono</p>, <p class=\"jss65 jss71 jss996\">Anuncio publicado por<!-- -->:</p>, <p class=\"jss65 jss74 jss1016\"><a class=\"jss988\" href=\"https://ms.fincaraiz.com.co/micrositio/59552bd8-7ad7-417d-823e-a3bf6bffeaf6\" target=\"_blank\">Darr Inmobiliaria</a></p>, <p class=\"jss65 jss74 jss1031 jss990\">hace 16 horas</p>, <p class=\"jss65 jss71 jss1055 jss1040\">Anuncios de la inmobiliaria</p>, <p class=\"jss65 jss79 jss1278\">Reportar anuncio</p>, <p class=\"jss65 jss74 jss1115\">Precio total (COP)</p>, <p class=\"jss65 jss70 jss1126\">$ 300.000.000</p>, <p class=\"jss65 jss72 jss1144\">¿Te interesó este inmueble?</p>, <p class=\"jss65 jss79 jss1179\">Reportar anuncio</p>]\n",
            "El tipo de vivienda es: Apartamento\n",
            "['1', '2', '2', '50 m²', '50 m²', '4', 'No definida', '9 a 15 años', '$\\xa0275.000 COP', '$\\xa06.000.000*m²', 1, 1, 1, 0, 0, 0, 1, 1, 1, 1, 1, 0, 0, 0, 0, 0, 0, 0, 'Apartamento', 'Cedritos', 300000000]\n",
            "Scrapping 2 / 25 ...\n",
            "https://www.fincaraiz.com.co/inmueble/apartamento-en-venta/santa-barbara/bogota/10259644/\n",
            "[<p class=\"jss65 jss70 jss133\">Apartamento en venta</p>, <p class=\"jss65 jss73 jss151\">Ubicación principal</p>, <p class=\"jss65 jss73 jss166\">Santa Barbara - Bogotá - Bogotá, d.c.</p>, <p class=\"jss65 jss73 jss181\">Ubicaciones asociadas</p>, <p class=\"jss65 jss73 jss196 jss126\">Santa barbara central, Multicentro, Santa Barbara, Bogotá, Usaquen, Zona norte, Bogotá, d.c.</p>, <p class=\"jss65 jss74 jss212 jss124\"><svg class=\"icon icon-eye\" fill=\"#077BE7\" height=\"24\" width=\"24\"><use href=\"/assets/svg/sprites.svg#icon-eye\" xlink:href=\"/assets/svg/sprites.svg#icon-eye\"></use></svg><span>Ver más</span></p>, <p class=\"jss65 jss74 jss245\">1 / 30</p>, <p class=\"jss65 jss71 jss273\">Descripción general</p>, <p class=\"jss65 jss73 jss290 jss265\">Amplio e iluminado apartamento, excelentes condiciones, tres espaciosas alcobas, hall de tv, cuatro baños incluido el baño de servicio, sala y comedor en espacios independientes, gran cocina y zona de lavandería completamente independiente. Exterior, sol de mañana y tarde, dos garajes independientes y depósito. El barrio Santa Bárbara (Multicentro), se caracteriza por sus amplias y tranquilas vías de acceso, lindos y bien mantenidos parques, tranquilidad total pero a la vez muy cercano a Unicentro y otros comercios de la zona.</p>, <p class=\"jss65 jss74 jss306 jss264\">Código Fincaraíz: 10259644</p>, <p class=\"jss65 jss74 jss321 jss266\"><span>Leer más</span><svg class=\"icon icon-arrow-down-1\" fill=\"#077BE7\" height=\"12\" style=\"will-change:transform;transform:\" width=\"12\"><use href=\"/assets/svg/sprites.svg#icon-arrow-down-1\" xlink:href=\"/assets/svg/sprites.svg#icon-arrow-down-1\"></use></svg></p>, <p class=\"jss65 jss74 jss347\">Habitaciones</p>, <p class=\"jss65 jss74 jss362\">3</p>, <p class=\"jss65 jss74 jss380\">Baños</p>, <p class=\"jss65 jss74 jss395\">4</p>, <p class=\"jss65 jss74 jss413\">Parqueaderos</p>, <p class=\"jss65 jss74 jss428\">2</p>, <p class=\"jss65 jss74 jss446\">Área construída</p>, <p class=\"jss65 jss74 jss461\">164 m²</p>, <p class=\"jss65 jss74 jss479\">Área privada</p>, <p class=\"jss65 jss74 jss494\">164 m²</p>, <p class=\"jss65 jss74 jss512\">Estrato</p>, <p class=\"jss65 jss74 jss527\">5</p>, <p class=\"jss65 jss74 jss545\">Antigüedad</p>, <p class=\"jss65 jss74 jss560\">16 a 30 años</p>, <p class=\"jss65 jss74 jss578\">Piso N°</p>, <p class=\"jss65 jss74 jss593\">4</p>, <p class=\"jss65 jss74 jss611\">Administración</p>, <p class=\"jss65 jss74 jss626\">$ 940.000 COP</p>, <p class=\"jss65 jss74 jss644\">Precio m²</p>, <p class=\"jss65 jss74 jss659\">$ 4.756.097,56*m²</p>, <p class=\"jss65 jss74 jss678\">La clasificación del estrato es potestativo del municipio, el anunciante no puede comprometerse con una clasificación determinada del estrato el cual queda definido en el momento de recibo de la obra.</p>, <p class=\"jss65 jss71 jss696 jss685\">Ubicación</p>, <p class=\"jss65 jss73 jss713\">Dirección</p>, <p class=\"jss65 jss73 jss729\">Preguntar al anunciante</p>, <p class=\"jss65 jss73 jss744\">Barrio</p>, <p class=\"jss65 jss73 jss759\">Santa barbara central - Bogotá</p>, <p class=\"jss65 jss71 jss776\">Características</p>, <p class=\"jss65 jss73 jss800\">Ascensor</p>, <p class=\"jss65 jss73 jss816\">Circuito cerrado de TV</p>, <p class=\"jss65 jss73 jss832\">Garaje(s)</p>, <p class=\"jss65 jss73 jss848\">Parqueadero Visitantes</p>, <p class=\"jss65 jss73 jss864\">Portería / Recepción</p>, <p class=\"jss65 jss73 jss880\">Vigilancia</p>, <p class=\"jss65 jss73 jss1294\">Baño Auxiliar</p>, <p class=\"jss65 jss73 jss1310\">Calentador</p>, <p class=\"jss65 jss73 jss1326\">Chimenea</p>, <p class=\"jss65 jss73 jss1342\">Citófono</p>, <p class=\"jss65 jss73 jss1358\">Cocina Integral</p>, <p class=\"jss65 jss73 jss1374\">Comedor auxiliar</p>, <p class=\"jss65 jss71 jss996\">Anuncio publicado por<!-- -->:</p>, <p class=\"jss65 jss74 jss1016\"><a class=\"jss988\" href=\"https://ms.fincaraiz.com.co/micrositio/59552bd8-7ad7-417d-823e-a3bf6bffeaf6\" target=\"_blank\">Darr Inmobiliaria</a></p>, <p class=\"jss65 jss74 jss1031 jss990\">hace 16 horas</p>, <p class=\"jss65 jss71 jss1055 jss1040\">Anuncios de la inmobiliaria</p>, <p class=\"jss65 jss79 jss1284\">Reportar anuncio</p>, <p class=\"jss65 jss74 jss1121\">Precio total (COP)</p>, <p class=\"jss65 jss70 jss1132\">$ 780.000.000</p>, <p class=\"jss65 jss72 jss1150\">¿Te interesó este inmueble?</p>, <p class=\"jss65 jss79 jss1185\">Reportar anuncio</p>]\n",
            "El tipo de vivienda es: Apartamento\n",
            "['3', '4', '2', '164 m²', '164 m²', '5', 'No definida', '16 a 30 años', '$\\xa0940.000 COP', '$\\xa04.756.097,56*m²', 1, 1, 1, 1, 0, 0, 0, 0, 1, 1, 1, 1, 0, 1, 0, 0, 0, 0, 'Apartamento', 'Santa Barbara', 780000000]\n",
            "Scrapping 3 / 25 ...\n",
            "https://www.fincaraiz.com.co/inmueble/apartamento-en-venta/los-rosales/bogota/7934853/\n"
          ]
        }
      ]
    },
    {
      "cell_type": "code",
      "source": [
        "data.head()"
      ],
      "metadata": {
        "id": "SalqwDzWlrqG"
      },
      "id": "SalqwDzWlrqG",
      "execution_count": null,
      "outputs": []
    },
    {
      "cell_type": "code",
      "source": [
        "data.to_csv('housing_fincaraiz_example_041223.csv', encoding='utf-8', index=False)"
      ],
      "metadata": {
        "id": "hpUV4SB9lrsq"
      },
      "id": "hpUV4SB9lrsq",
      "execution_count": null,
      "outputs": []
    },
    {
      "cell_type": "markdown",
      "source": [
        "### Testing code for scraping only one page"
      ],
      "metadata": {
        "id": "uOecwhsPrKQ6"
      },
      "id": "uOecwhsPrKQ6"
    },
    {
      "cell_type": "code",
      "source": [
        "#*****************************\n",
        "#Code for testing in one page\n",
        "#*****************************\n",
        "\n",
        "# # set the target URL\n",
        "# pag = 1\n",
        "# url = f'https://www.fincaraiz.com.co/apartamentos-casas/venta/bogota/bogota-dc?pagina={pag}'\n",
        "\n",
        "# # set up the webdriver\n",
        "# driver = webdriver.Chrome(options=chrome_options)\n",
        "\n",
        "# print(url)\n",
        "# driver.get(url)\n",
        "# driver.implicitly_wait(10)\n",
        "# html = driver.page_source\n",
        "# soup = bs(html,'lxml')\n",
        "\n",
        "# # quit the driver\n",
        "# driver.quit()\n",
        "\n",
        "# links = []\n",
        "# links = gethref(soup)\n",
        "# links\n",
        "\n",
        "# aux = []\n",
        "# cols = ['habitaciones','baños','parqueaderos','area_construida','area_privada','estrato','estado','antiguedad',\n",
        "#         'administracion','precio_m2', 'Ascensor', 'Circuito cerrado de TV',\n",
        "#        'Parqueadero Visitantes', 'Portería / Recepción', 'Zonas Verdes', 'Salón Comunal', 'Balcón',\n",
        "#        'Barra estilo americano', 'Calentador', 'Chimenea', 'Citófono', 'Cocina Integral', 'Terraza',\n",
        "#        'Vigilancia', 'Parques cercanos', 'Estudio', 'Patio', 'Depósito / Bodega', 'nombre','ubicacion','precio']\n",
        "# data = pd.DataFrame(columns=cols)\n",
        "\n",
        "# #Remove \"Proyectos de vivienda\"\n",
        "# url_inmuebles = []\n",
        "# url_inmuebles = remove_proyectos(links)\n",
        "\n",
        "# #Scrapping\n",
        "# p = []\n",
        "# #Scrapping a los inmuebles filtrados\n",
        "# for i in range(len(url_inmuebles)):\n",
        "#   print('Scrapping', i, '/', len(url_inmuebles), '...')\n",
        "#   p.append(scrapper(url_inmuebles[i]))\n",
        "#   print(p[i])\n",
        "\n",
        "#   #append list to DataFrame\n",
        "#   data.loc[len(data)] = p[i]"
      ],
      "metadata": {
        "id": "L_szzIxMF9dY"
      },
      "id": "L_szzIxMF9dY",
      "execution_count": null,
      "outputs": []
    },
    {
      "cell_type": "markdown",
      "id": "b4c68c33",
      "metadata": {
        "id": "b4c68c33"
      },
      "source": [
        "## Referencias\n",
        "---\n",
        "\n",
        "\n",
        "\n",
        "https://github.com/kiteco/kite-python-blog-post-code/blob/master/Web%20Scraping%20Tutorial/script.py\n",
        "\n",
        "https://medium.com/geekculture/scrappy-guide-to-web-scraping-with-python-475385364381\n",
        "\n",
        "https://stackoverflow.com/questions/47730671/python-3-using-requests-does-not-get-the-full-content-of-a-web-page"
      ]
    }
  ],
  "metadata": {
    "colab": {
      "provenance": [],
      "collapsed_sections": [
        "BtniE5ULxd13",
        "wcITlNc7kZUU",
        "4o6ufOvVkfeM",
        "OGDlMylHklWl",
        "LuAn5qaikpLH",
        "RuMHDnfslfak",
        "VT6YfH1csErC",
        "uOecwhsPrKQ6"
      ]
    },
    "kernelspec": {
      "display_name": "Python 3 (ipykernel)",
      "language": "python",
      "name": "python3"
    },
    "language_info": {
      "codemirror_mode": {
        "name": "ipython",
        "version": 3
      },
      "file_extension": ".py",
      "mimetype": "text/x-python",
      "name": "python",
      "nbconvert_exporter": "python",
      "pygments_lexer": "ipython3",
      "version": "3.9.13"
    }
  },
  "nbformat": 4,
  "nbformat_minor": 5
}